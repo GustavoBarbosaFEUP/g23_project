{
 "cells": [
  {
   "cell_type": "code",
   "execution_count": 7,
   "id": "247f31ec-6a9c-4210-b6ff-c5601e8addad",
   "metadata": {},
   "outputs": [],
   "source": [
    "import pandas as pd"
   ]
  },
  {
   "cell_type": "code",
   "execution_count": 9,
   "id": "fe6de0de-517c-4841-bae7-e4b3abc3c45e",
   "metadata": {},
   "outputs": [],
   "source": [
    "df =pd.read_csv('G23_Fashion – Designers  Collections with Fashion Shows_merged (1).csv', sep = ',')"
   ]
  },
  {
   "cell_type": "code",
   "execution_count": 10,
   "id": "18fec9ae-3f47-428f-9788-ae58fdf45e56",
   "metadata": {},
   "outputs": [],
   "source": [
    "Designers=df.loc[:,['designer_id', 'name', 'nationality',]]"
   ]
  },
  {
   "cell_type": "code",
   "execution_count": 11,
   "id": "4ab34e46-9500-4bf1-9172-ee1cf611cff0",
   "metadata": {},
   "outputs": [
    {
     "data": {
      "text/html": [
       "<div>\n",
       "<style scoped>\n",
       "    .dataframe tbody tr th:only-of-type {\n",
       "        vertical-align: middle;\n",
       "    }\n",
       "\n",
       "    .dataframe tbody tr th {\n",
       "        vertical-align: top;\n",
       "    }\n",
       "\n",
       "    .dataframe thead th {\n",
       "        text-align: right;\n",
       "    }\n",
       "</style>\n",
       "<table border=\"1\" class=\"dataframe\">\n",
       "  <thead>\n",
       "    <tr style=\"text-align: right;\">\n",
       "      <th></th>\n",
       "      <th>designer_id</th>\n",
       "      <th>name</th>\n",
       "      <th>nationality</th>\n",
       "    </tr>\n",
       "  </thead>\n",
       "  <tbody>\n",
       "    <tr>\n",
       "      <th>0</th>\n",
       "      <td>46</td>\n",
       "      <td>Charles Green</td>\n",
       "      <td>Finland</td>\n",
       "    </tr>\n",
       "    <tr>\n",
       "      <th>1</th>\n",
       "      <td>78</td>\n",
       "      <td>Robert Webb</td>\n",
       "      <td>Lithuania</td>\n",
       "    </tr>\n",
       "    <tr>\n",
       "      <th>2</th>\n",
       "      <td>12</td>\n",
       "      <td>Elizabeth Reid</td>\n",
       "      <td>Panama</td>\n",
       "    </tr>\n",
       "  </tbody>\n",
       "</table>\n",
       "</div>"
      ],
      "text/plain": [
       "   designer_id            name nationality\n",
       "0           46   Charles Green     Finland\n",
       "1           78     Robert Webb   Lithuania\n",
       "2           12  Elizabeth Reid      Panama"
      ]
     },
     "execution_count": 11,
     "metadata": {},
     "output_type": "execute_result"
    }
   ],
   "source": [
    "Designers.head(3)"
   ]
  },
  {
   "cell_type": "code",
   "execution_count": 12,
   "id": "2fbe832d-e32a-4de1-8098-7af21e47710a",
   "metadata": {},
   "outputs": [],
   "source": [
    "Designers=Designers.sort_values(by='designer_id')"
   ]
  },
  {
   "cell_type": "code",
   "execution_count": 13,
   "id": "26afa5ae-d8ab-4226-9017-25e1bc38571c",
   "metadata": {},
   "outputs": [
    {
     "data": {
      "text/html": [
       "<div>\n",
       "<style scoped>\n",
       "    .dataframe tbody tr th:only-of-type {\n",
       "        vertical-align: middle;\n",
       "    }\n",
       "\n",
       "    .dataframe tbody tr th {\n",
       "        vertical-align: top;\n",
       "    }\n",
       "\n",
       "    .dataframe thead th {\n",
       "        text-align: right;\n",
       "    }\n",
       "</style>\n",
       "<table border=\"1\" class=\"dataframe\">\n",
       "  <thead>\n",
       "    <tr style=\"text-align: right;\">\n",
       "      <th></th>\n",
       "      <th>designer_id</th>\n",
       "      <th>name</th>\n",
       "      <th>nationality</th>\n",
       "    </tr>\n",
       "  </thead>\n",
       "  <tbody>\n",
       "    <tr>\n",
       "      <th>233</th>\n",
       "      <td>1</td>\n",
       "      <td>David Horne</td>\n",
       "      <td>Algeria</td>\n",
       "    </tr>\n",
       "    <tr>\n",
       "      <th>91</th>\n",
       "      <td>1</td>\n",
       "      <td>David Horne</td>\n",
       "      <td>Algeria</td>\n",
       "    </tr>\n",
       "    <tr>\n",
       "      <th>264</th>\n",
       "      <td>1</td>\n",
       "      <td>David Horne</td>\n",
       "      <td>Algeria</td>\n",
       "    </tr>\n",
       "    <tr>\n",
       "      <th>366</th>\n",
       "      <td>1</td>\n",
       "      <td>David Horne</td>\n",
       "      <td>Algeria</td>\n",
       "    </tr>\n",
       "    <tr>\n",
       "      <th>322</th>\n",
       "      <td>2</td>\n",
       "      <td>Stacy Lindsey</td>\n",
       "      <td>Liberia</td>\n",
       "    </tr>\n",
       "  </tbody>\n",
       "</table>\n",
       "</div>"
      ],
      "text/plain": [
       "     designer_id           name nationality\n",
       "233            1    David Horne     Algeria\n",
       "91             1    David Horne     Algeria\n",
       "264            1    David Horne     Algeria\n",
       "366            1    David Horne     Algeria\n",
       "322            2  Stacy Lindsey     Liberia"
      ]
     },
     "execution_count": 13,
     "metadata": {},
     "output_type": "execute_result"
    }
   ],
   "source": [
    "Designers.head(5)"
   ]
  },
  {
   "cell_type": "code",
   "execution_count": 14,
   "id": "65e61057-9bfe-46f5-a510-7e62abe0c9ea",
   "metadata": {},
   "outputs": [],
   "source": [
    "Designers.drop_duplicates(inplace=True)"
   ]
  },
  {
   "cell_type": "code",
   "execution_count": 15,
   "id": "ff7cb7be-8293-4e5d-a875-0e78edff57f5",
   "metadata": {},
   "outputs": [
    {
     "data": {
      "text/html": [
       "<div>\n",
       "<style scoped>\n",
       "    .dataframe tbody tr th:only-of-type {\n",
       "        vertical-align: middle;\n",
       "    }\n",
       "\n",
       "    .dataframe tbody tr th {\n",
       "        vertical-align: top;\n",
       "    }\n",
       "\n",
       "    .dataframe thead th {\n",
       "        text-align: right;\n",
       "    }\n",
       "</style>\n",
       "<table border=\"1\" class=\"dataframe\">\n",
       "  <thead>\n",
       "    <tr style=\"text-align: right;\">\n",
       "      <th></th>\n",
       "      <th>designer_id</th>\n",
       "      <th>name</th>\n",
       "      <th>nationality</th>\n",
       "    </tr>\n",
       "  </thead>\n",
       "  <tbody>\n",
       "    <tr>\n",
       "      <th>233</th>\n",
       "      <td>1</td>\n",
       "      <td>David Horne</td>\n",
       "      <td>Algeria</td>\n",
       "    </tr>\n",
       "    <tr>\n",
       "      <th>322</th>\n",
       "      <td>2</td>\n",
       "      <td>Stacy Lindsey</td>\n",
       "      <td>Liberia</td>\n",
       "    </tr>\n",
       "    <tr>\n",
       "      <th>219</th>\n",
       "      <td>3</td>\n",
       "      <td>Mason Garcia</td>\n",
       "      <td>Reunion</td>\n",
       "    </tr>\n",
       "    <tr>\n",
       "      <th>190</th>\n",
       "      <td>4</td>\n",
       "      <td>Joseph Walsh</td>\n",
       "      <td>Argentina</td>\n",
       "    </tr>\n",
       "    <tr>\n",
       "      <th>88</th>\n",
       "      <td>5</td>\n",
       "      <td>Corey Burns</td>\n",
       "      <td>Holy See (Vatican City State)</td>\n",
       "    </tr>\n",
       "  </tbody>\n",
       "</table>\n",
       "</div>"
      ],
      "text/plain": [
       "     designer_id           name                    nationality\n",
       "233            1    David Horne                        Algeria\n",
       "322            2  Stacy Lindsey                        Liberia\n",
       "219            3   Mason Garcia                        Reunion\n",
       "190            4   Joseph Walsh                      Argentina\n",
       "88             5    Corey Burns  Holy See (Vatican City State)"
      ]
     },
     "execution_count": 15,
     "metadata": {},
     "output_type": "execute_result"
    }
   ],
   "source": [
    "Designers.head(5)"
   ]
  },
  {
   "cell_type": "code",
   "execution_count": 16,
   "id": "234c72ad-99bd-4f8c-a162-4fd6d92c6d5a",
   "metadata": {},
   "outputs": [],
   "source": [
    "import sqlite3\n",
    "conexao = sqlite3.connect('FashionDesigners.db')\n",
    "Designers.to_sql('Designers', conexao, if_exists='replace', index=False)\n",
    "conexao.close()"
   ]
  },
  {
   "cell_type": "code",
   "execution_count": 17,
   "id": "83d239e4-3da6-4afc-a45a-5f4002fc1a84",
   "metadata": {},
   "outputs": [],
   "source": [
    "Collections=df.loc[:,['collection_id', 'style', 'theme','season', 'release_year',]]"
   ]
  },
  {
   "cell_type": "code",
   "execution_count": 18,
   "id": "19d00c4f-ced1-4843-92c4-c20575411f0c",
   "metadata": {},
   "outputs": [
    {
     "data": {
      "text/html": [
       "<div>\n",
       "<style scoped>\n",
       "    .dataframe tbody tr th:only-of-type {\n",
       "        vertical-align: middle;\n",
       "    }\n",
       "\n",
       "    .dataframe tbody tr th {\n",
       "        vertical-align: top;\n",
       "    }\n",
       "\n",
       "    .dataframe thead th {\n",
       "        text-align: right;\n",
       "    }\n",
       "</style>\n",
       "<table border=\"1\" class=\"dataframe\">\n",
       "  <thead>\n",
       "    <tr style=\"text-align: right;\">\n",
       "      <th></th>\n",
       "      <th>collection_id</th>\n",
       "      <th>style</th>\n",
       "      <th>theme</th>\n",
       "      <th>season</th>\n",
       "      <th>release_year</th>\n",
       "    </tr>\n",
       "  </thead>\n",
       "  <tbody>\n",
       "    <tr>\n",
       "      <th>0</th>\n",
       "      <td>117</td>\n",
       "      <td>whole</td>\n",
       "      <td>story</td>\n",
       "      <td>Spring</td>\n",
       "      <td>2008</td>\n",
       "    </tr>\n",
       "    <tr>\n",
       "      <th>1</th>\n",
       "      <td>68</td>\n",
       "      <td>see</td>\n",
       "      <td>if</td>\n",
       "      <td>Winter</td>\n",
       "      <td>2019</td>\n",
       "    </tr>\n",
       "    <tr>\n",
       "      <th>2</th>\n",
       "      <td>8</td>\n",
       "      <td>visit</td>\n",
       "      <td>police</td>\n",
       "      <td>Fall</td>\n",
       "      <td>2009</td>\n",
       "    </tr>\n",
       "  </tbody>\n",
       "</table>\n",
       "</div>"
      ],
      "text/plain": [
       "   collection_id  style   theme  season  release_year\n",
       "0            117  whole   story  Spring          2008\n",
       "1             68    see      if  Winter          2019\n",
       "2              8  visit  police    Fall          2009"
      ]
     },
     "execution_count": 18,
     "metadata": {},
     "output_type": "execute_result"
    }
   ],
   "source": [
    "Collections.head(3)"
   ]
  },
  {
   "cell_type": "code",
   "execution_count": 19,
   "id": "c21d06f7-eaa8-4337-ab94-5b937de1fd22",
   "metadata": {},
   "outputs": [],
   "source": [
    "Collections=Collections.sort_values(by='collection_id')"
   ]
  },
  {
   "cell_type": "code",
   "execution_count": 20,
   "id": "ca18cb72-591f-4978-b94e-161ca27b7ef1",
   "metadata": {},
   "outputs": [
    {
     "data": {
      "text/html": [
       "<div>\n",
       "<style scoped>\n",
       "    .dataframe tbody tr th:only-of-type {\n",
       "        vertical-align: middle;\n",
       "    }\n",
       "\n",
       "    .dataframe tbody tr th {\n",
       "        vertical-align: top;\n",
       "    }\n",
       "\n",
       "    .dataframe thead th {\n",
       "        text-align: right;\n",
       "    }\n",
       "</style>\n",
       "<table border=\"1\" class=\"dataframe\">\n",
       "  <thead>\n",
       "    <tr style=\"text-align: right;\">\n",
       "      <th></th>\n",
       "      <th>collection_id</th>\n",
       "      <th>style</th>\n",
       "      <th>theme</th>\n",
       "      <th>season</th>\n",
       "      <th>release_year</th>\n",
       "    </tr>\n",
       "  </thead>\n",
       "  <tbody>\n",
       "    <tr>\n",
       "      <th>248</th>\n",
       "      <td>1</td>\n",
       "      <td>cultural</td>\n",
       "      <td>even</td>\n",
       "      <td>Fall</td>\n",
       "      <td>2014</td>\n",
       "    </tr>\n",
       "    <tr>\n",
       "      <th>148</th>\n",
       "      <td>1</td>\n",
       "      <td>truth</td>\n",
       "      <td>even</td>\n",
       "      <td>Fall</td>\n",
       "      <td>2014</td>\n",
       "    </tr>\n",
       "    <tr>\n",
       "      <th>243</th>\n",
       "      <td>2</td>\n",
       "      <td>life</td>\n",
       "      <td>no</td>\n",
       "      <td>Summer</td>\n",
       "      <td>2012</td>\n",
       "    </tr>\n",
       "    <tr>\n",
       "      <th>364</th>\n",
       "      <td>2</td>\n",
       "      <td>life</td>\n",
       "      <td>no</td>\n",
       "      <td>Summer</td>\n",
       "      <td>2012</td>\n",
       "    </tr>\n",
       "    <tr>\n",
       "      <th>271</th>\n",
       "      <td>2</td>\n",
       "      <td>each</td>\n",
       "      <td>no</td>\n",
       "      <td>Summer</td>\n",
       "      <td>2012</td>\n",
       "    </tr>\n",
       "  </tbody>\n",
       "</table>\n",
       "</div>"
      ],
      "text/plain": [
       "     collection_id     style theme  season  release_year\n",
       "248              1  cultural  even    Fall          2014\n",
       "148              1     truth  even    Fall          2014\n",
       "243              2      life    no  Summer          2012\n",
       "364              2      life    no  Summer          2012\n",
       "271              2      each    no  Summer          2012"
      ]
     },
     "execution_count": 20,
     "metadata": {},
     "output_type": "execute_result"
    }
   ],
   "source": [
    "Collections.head(5)"
   ]
  },
  {
   "cell_type": "code",
   "execution_count": 21,
   "id": "ac062a57-65f2-44d5-8ce5-32411d3b2ea4",
   "metadata": {},
   "outputs": [],
   "source": [
    "Collections.drop_duplicates(inplace=True)"
   ]
  },
  {
   "cell_type": "code",
   "execution_count": 22,
   "id": "bbc23147-b0cb-4c49-ab2e-f34a217b09ef",
   "metadata": {},
   "outputs": [
    {
     "data": {
      "text/html": [
       "<div>\n",
       "<style scoped>\n",
       "    .dataframe tbody tr th:only-of-type {\n",
       "        vertical-align: middle;\n",
       "    }\n",
       "\n",
       "    .dataframe tbody tr th {\n",
       "        vertical-align: top;\n",
       "    }\n",
       "\n",
       "    .dataframe thead th {\n",
       "        text-align: right;\n",
       "    }\n",
       "</style>\n",
       "<table border=\"1\" class=\"dataframe\">\n",
       "  <thead>\n",
       "    <tr style=\"text-align: right;\">\n",
       "      <th></th>\n",
       "      <th>collection_id</th>\n",
       "      <th>style</th>\n",
       "      <th>theme</th>\n",
       "      <th>season</th>\n",
       "      <th>release_year</th>\n",
       "    </tr>\n",
       "  </thead>\n",
       "  <tbody>\n",
       "    <tr>\n",
       "      <th>248</th>\n",
       "      <td>1</td>\n",
       "      <td>cultural</td>\n",
       "      <td>even</td>\n",
       "      <td>Fall</td>\n",
       "      <td>2014</td>\n",
       "    </tr>\n",
       "    <tr>\n",
       "      <th>148</th>\n",
       "      <td>1</td>\n",
       "      <td>truth</td>\n",
       "      <td>even</td>\n",
       "      <td>Fall</td>\n",
       "      <td>2014</td>\n",
       "    </tr>\n",
       "    <tr>\n",
       "      <th>243</th>\n",
       "      <td>2</td>\n",
       "      <td>life</td>\n",
       "      <td>no</td>\n",
       "      <td>Summer</td>\n",
       "      <td>2012</td>\n",
       "    </tr>\n",
       "    <tr>\n",
       "      <th>271</th>\n",
       "      <td>2</td>\n",
       "      <td>each</td>\n",
       "      <td>no</td>\n",
       "      <td>Summer</td>\n",
       "      <td>2012</td>\n",
       "    </tr>\n",
       "    <tr>\n",
       "      <th>72</th>\n",
       "      <td>2</td>\n",
       "      <td>evidence</td>\n",
       "      <td>no</td>\n",
       "      <td>Summer</td>\n",
       "      <td>2012</td>\n",
       "    </tr>\n",
       "  </tbody>\n",
       "</table>\n",
       "</div>"
      ],
      "text/plain": [
       "     collection_id     style theme  season  release_year\n",
       "248              1  cultural  even    Fall          2014\n",
       "148              1     truth  even    Fall          2014\n",
       "243              2      life    no  Summer          2012\n",
       "271              2      each    no  Summer          2012\n",
       "72               2  evidence    no  Summer          2012"
      ]
     },
     "execution_count": 22,
     "metadata": {},
     "output_type": "execute_result"
    }
   ],
   "source": [
    "Collections.head(5)"
   ]
  },
  {
   "cell_type": "code",
   "execution_count": 23,
   "id": "c1be56b4-be87-4499-88e5-17ba5bdffd63",
   "metadata": {},
   "outputs": [],
   "source": [
    "import sqlite3\n",
    "conexao = sqlite3.connect('FashionDesigners.db')\n",
    "Collections.to_sql('Collections', conexao, if_exists='replace', index=False)\n",
    "conexao.close()"
   ]
  },
  {
   "cell_type": "code",
   "execution_count": 24,
   "id": "752f1d13-c0dd-49f0-84af-a4e2bbaefc4d",
   "metadata": {},
   "outputs": [],
   "source": [
    "Designers_collections=df.loc[:,['designer_id', 'collection_id', 'contribution_percentage',]]"
   ]
  },
  {
   "cell_type": "code",
   "execution_count": 25,
   "id": "d84434f0-73d9-4913-b6d1-3bcf8bc54f15",
   "metadata": {},
   "outputs": [
    {
     "data": {
      "text/html": [
       "<div>\n",
       "<style scoped>\n",
       "    .dataframe tbody tr th:only-of-type {\n",
       "        vertical-align: middle;\n",
       "    }\n",
       "\n",
       "    .dataframe tbody tr th {\n",
       "        vertical-align: top;\n",
       "    }\n",
       "\n",
       "    .dataframe thead th {\n",
       "        text-align: right;\n",
       "    }\n",
       "</style>\n",
       "<table border=\"1\" class=\"dataframe\">\n",
       "  <thead>\n",
       "    <tr style=\"text-align: right;\">\n",
       "      <th></th>\n",
       "      <th>designer_id</th>\n",
       "      <th>collection_id</th>\n",
       "      <th>contribution_percentage</th>\n",
       "    </tr>\n",
       "  </thead>\n",
       "  <tbody>\n",
       "    <tr>\n",
       "      <th>0</th>\n",
       "      <td>46</td>\n",
       "      <td>117</td>\n",
       "      <td>85.16</td>\n",
       "    </tr>\n",
       "    <tr>\n",
       "      <th>1</th>\n",
       "      <td>78</td>\n",
       "      <td>68</td>\n",
       "      <td>28.03</td>\n",
       "    </tr>\n",
       "    <tr>\n",
       "      <th>2</th>\n",
       "      <td>12</td>\n",
       "      <td>8</td>\n",
       "      <td>83.98</td>\n",
       "    </tr>\n",
       "  </tbody>\n",
       "</table>\n",
       "</div>"
      ],
      "text/plain": [
       "   designer_id  collection_id  contribution_percentage\n",
       "0           46            117                    85.16\n",
       "1           78             68                    28.03\n",
       "2           12              8                    83.98"
      ]
     },
     "execution_count": 25,
     "metadata": {},
     "output_type": "execute_result"
    }
   ],
   "source": [
    "Designers_collections.head(3)"
   ]
  },
  {
   "cell_type": "code",
   "execution_count": 26,
   "id": "5d020ea1-f5ce-4564-b3da-f6afc5683cf8",
   "metadata": {},
   "outputs": [],
   "source": [
    "import sqlite3\n",
    "conexao = sqlite3.connect('FashionDesigners.db')\n",
    "Designers_collections.to_sql('Designers_collections', conexao, if_exists='replace', index=False)\n",
    "conexao.close()"
   ]
  },
  {
   "cell_type": "code",
   "execution_count": 27,
   "id": "eb7d73b3-7362-43a4-bd2c-d0887008933d",
   "metadata": {},
   "outputs": [],
   "source": [
    "Fashion_show=df.loc[:,['fashion_id','show_name','venue', 'date',]]"
   ]
  },
  {
   "cell_type": "code",
   "execution_count": 28,
   "id": "86662f41-39dc-4e67-bfae-0d5f55cd4a52",
   "metadata": {},
   "outputs": [
    {
     "data": {
      "text/html": [
       "<div>\n",
       "<style scoped>\n",
       "    .dataframe tbody tr th:only-of-type {\n",
       "        vertical-align: middle;\n",
       "    }\n",
       "\n",
       "    .dataframe tbody tr th {\n",
       "        vertical-align: top;\n",
       "    }\n",
       "\n",
       "    .dataframe thead th {\n",
       "        text-align: right;\n",
       "    }\n",
       "</style>\n",
       "<table border=\"1\" class=\"dataframe\">\n",
       "  <thead>\n",
       "    <tr style=\"text-align: right;\">\n",
       "      <th></th>\n",
       "      <th>fashion_id</th>\n",
       "      <th>show_name</th>\n",
       "      <th>venue</th>\n",
       "      <th>date</th>\n",
       "    </tr>\n",
       "  </thead>\n",
       "  <tbody>\n",
       "    <tr>\n",
       "      <th>0</th>\n",
       "      <td>9</td>\n",
       "      <td>but</td>\n",
       "      <td>South Jesse</td>\n",
       "      <td>2025-02-21</td>\n",
       "    </tr>\n",
       "    <tr>\n",
       "      <th>1</th>\n",
       "      <td>2</td>\n",
       "      <td>let</td>\n",
       "      <td>Ericaville</td>\n",
       "      <td>2025-01-11</td>\n",
       "    </tr>\n",
       "    <tr>\n",
       "      <th>2</th>\n",
       "      <td>15</td>\n",
       "      <td>fact</td>\n",
       "      <td>North Christinaborough</td>\n",
       "      <td>2025-02-10</td>\n",
       "    </tr>\n",
       "  </tbody>\n",
       "</table>\n",
       "</div>"
      ],
      "text/plain": [
       "   fashion_id show_name                   venue        date\n",
       "0           9       but             South Jesse  2025-02-21\n",
       "1           2       let              Ericaville  2025-01-11\n",
       "2          15      fact  North Christinaborough  2025-02-10"
      ]
     },
     "execution_count": 28,
     "metadata": {},
     "output_type": "execute_result"
    }
   ],
   "source": [
    "Fashion_show.head(3)"
   ]
  },
  {
   "cell_type": "code",
   "execution_count": 29,
   "id": "8b273c2d-ed80-42f0-a874-3f6bfe2ad823",
   "metadata": {},
   "outputs": [],
   "source": [
    "Fashion_show=Fashion_show.sort_values(by='fashion_id')"
   ]
  },
  {
   "cell_type": "code",
   "execution_count": 30,
   "id": "9c39aa06-8737-4426-8573-7fd0a9bd8903",
   "metadata": {},
   "outputs": [
    {
     "data": {
      "text/html": [
       "<div>\n",
       "<style scoped>\n",
       "    .dataframe tbody tr th:only-of-type {\n",
       "        vertical-align: middle;\n",
       "    }\n",
       "\n",
       "    .dataframe tbody tr th {\n",
       "        vertical-align: top;\n",
       "    }\n",
       "\n",
       "    .dataframe thead th {\n",
       "        text-align: right;\n",
       "    }\n",
       "</style>\n",
       "<table border=\"1\" class=\"dataframe\">\n",
       "  <thead>\n",
       "    <tr style=\"text-align: right;\">\n",
       "      <th></th>\n",
       "      <th>fashion_id</th>\n",
       "      <th>show_name</th>\n",
       "      <th>venue</th>\n",
       "      <th>date</th>\n",
       "    </tr>\n",
       "  </thead>\n",
       "  <tbody>\n",
       "    <tr>\n",
       "      <th>226</th>\n",
       "      <td>1</td>\n",
       "      <td>three</td>\n",
       "      <td>East Richardbury</td>\n",
       "      <td>2025-02-11</td>\n",
       "    </tr>\n",
       "    <tr>\n",
       "      <th>301</th>\n",
       "      <td>1</td>\n",
       "      <td>three</td>\n",
       "      <td>East Richardbury</td>\n",
       "      <td>2025-02-11</td>\n",
       "    </tr>\n",
       "    <tr>\n",
       "      <th>279</th>\n",
       "      <td>1</td>\n",
       "      <td>three</td>\n",
       "      <td>East Richardbury</td>\n",
       "      <td>2025-02-11</td>\n",
       "    </tr>\n",
       "  </tbody>\n",
       "</table>\n",
       "</div>"
      ],
      "text/plain": [
       "     fashion_id show_name             venue        date\n",
       "226           1     three  East Richardbury  2025-02-11\n",
       "301           1     three  East Richardbury  2025-02-11\n",
       "279           1     three  East Richardbury  2025-02-11"
      ]
     },
     "execution_count": 30,
     "metadata": {},
     "output_type": "execute_result"
    }
   ],
   "source": [
    "Fashion_show.head(3)"
   ]
  },
  {
   "cell_type": "code",
   "execution_count": 31,
   "id": "7c9dbcdd-c218-4e36-96dc-04abc0fdf923",
   "metadata": {},
   "outputs": [],
   "source": [
    "Fashion_show.drop_duplicates(inplace=True)"
   ]
  },
  {
   "cell_type": "code",
   "execution_count": 32,
   "id": "571a0406-51d7-4ab6-9358-b24396060dea",
   "metadata": {},
   "outputs": [
    {
     "data": {
      "text/html": [
       "<div>\n",
       "<style scoped>\n",
       "    .dataframe tbody tr th:only-of-type {\n",
       "        vertical-align: middle;\n",
       "    }\n",
       "\n",
       "    .dataframe tbody tr th {\n",
       "        vertical-align: top;\n",
       "    }\n",
       "\n",
       "    .dataframe thead th {\n",
       "        text-align: right;\n",
       "    }\n",
       "</style>\n",
       "<table border=\"1\" class=\"dataframe\">\n",
       "  <thead>\n",
       "    <tr style=\"text-align: right;\">\n",
       "      <th></th>\n",
       "      <th>fashion_id</th>\n",
       "      <th>show_name</th>\n",
       "      <th>venue</th>\n",
       "      <th>date</th>\n",
       "    </tr>\n",
       "  </thead>\n",
       "  <tbody>\n",
       "    <tr>\n",
       "      <th>226</th>\n",
       "      <td>1</td>\n",
       "      <td>three</td>\n",
       "      <td>East Richardbury</td>\n",
       "      <td>2025-02-11</td>\n",
       "    </tr>\n",
       "    <tr>\n",
       "      <th>206</th>\n",
       "      <td>2</td>\n",
       "      <td>let</td>\n",
       "      <td>Ericaville</td>\n",
       "      <td>2025-01-11</td>\n",
       "    </tr>\n",
       "    <tr>\n",
       "      <th>38</th>\n",
       "      <td>3</td>\n",
       "      <td>risk</td>\n",
       "      <td>New Lauren</td>\n",
       "      <td>2025-01-24</td>\n",
       "    </tr>\n",
       "  </tbody>\n",
       "</table>\n",
       "</div>"
      ],
      "text/plain": [
       "     fashion_id show_name             venue        date\n",
       "226           1     three  East Richardbury  2025-02-11\n",
       "206           2       let        Ericaville  2025-01-11\n",
       "38            3      risk        New Lauren  2025-01-24"
      ]
     },
     "execution_count": 32,
     "metadata": {},
     "output_type": "execute_result"
    }
   ],
   "source": [
    "Fashion_show.head(3)"
   ]
  },
  {
   "cell_type": "code",
   "execution_count": 33,
   "id": "5fa6f03d-e64b-490d-867c-4d7df58549c5",
   "metadata": {},
   "outputs": [],
   "source": [
    "import sqlite3\n",
    "conexao = sqlite3.connect('FashionDesigners.db')\n",
    "Fashion_show.to_sql('Fashion_show', conexao, if_exists='replace', index=False)\n",
    "conexao.close()"
   ]
  },
  {
   "cell_type": "code",
   "execution_count": null,
   "id": "2684ab01-3cef-4ba6-a76d-1b45e1e0905b",
   "metadata": {},
   "outputs": [],
   "source": []
  }
 ],
 "metadata": {
  "kernelspec": {
   "display_name": "Python 3 (ipykernel)",
   "language": "python",
   "name": "python3"
  },
  "language_info": {
   "codemirror_mode": {
    "name": "ipython",
    "version": 3
   },
   "file_extension": ".py",
   "mimetype": "text/x-python",
   "name": "python",
   "nbconvert_exporter": "python",
   "pygments_lexer": "ipython3",
   "version": "3.12.4"
  }
 },
 "nbformat": 4,
 "nbformat_minor": 5
}
