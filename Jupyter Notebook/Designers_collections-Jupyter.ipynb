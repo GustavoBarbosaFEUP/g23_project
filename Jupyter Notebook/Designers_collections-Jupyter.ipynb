{
 "cells": [
  {
   "cell_type": "code",
   "execution_count": 3,
   "id": "247f31ec-6a9c-4210-b6ff-c5601e8addad",
   "metadata": {},
   "outputs": [],
   "source": [
    "import pandas as pd"
   ]
  },
  {
   "cell_type": "code",
   "execution_count": 4,
   "id": "fe6de0de-517c-4841-bae7-e4b3abc3c45e",
   "metadata": {},
   "outputs": [],
   "source": [
    "df =pd.read_csv('G23_Fashion – Designers  Collections with Fashion Shows_merged (1).csv', sep = ',')"
   ]
  },
  {
   "cell_type": "code",
   "execution_count": 6,
   "id": "18fec9ae-3f47-428f-9788-ae58fdf45e56",
   "metadata": {},
   "outputs": [],
   "source": [
    "Designers_collections=df.loc[:,['designer_id', 'collection_id', 'contribution_percentage',]]"
   ]
  },
  {
   "cell_type": "code",
   "execution_count": 7,
   "id": "4ab34e46-9500-4bf1-9172-ee1cf611cff0",
   "metadata": {},
   "outputs": [
    {
     "data": {
      "text/html": [
       "<div>\n",
       "<style scoped>\n",
       "    .dataframe tbody tr th:only-of-type {\n",
       "        vertical-align: middle;\n",
       "    }\n",
       "\n",
       "    .dataframe tbody tr th {\n",
       "        vertical-align: top;\n",
       "    }\n",
       "\n",
       "    .dataframe thead th {\n",
       "        text-align: right;\n",
       "    }\n",
       "</style>\n",
       "<table border=\"1\" class=\"dataframe\">\n",
       "  <thead>\n",
       "    <tr style=\"text-align: right;\">\n",
       "      <th></th>\n",
       "      <th>designer_id</th>\n",
       "      <th>collection_id</th>\n",
       "      <th>contribution_percentage</th>\n",
       "    </tr>\n",
       "  </thead>\n",
       "  <tbody>\n",
       "    <tr>\n",
       "      <th>0</th>\n",
       "      <td>46</td>\n",
       "      <td>117</td>\n",
       "      <td>85.16</td>\n",
       "    </tr>\n",
       "    <tr>\n",
       "      <th>1</th>\n",
       "      <td>78</td>\n",
       "      <td>68</td>\n",
       "      <td>28.03</td>\n",
       "    </tr>\n",
       "    <tr>\n",
       "      <th>2</th>\n",
       "      <td>12</td>\n",
       "      <td>8</td>\n",
       "      <td>83.98</td>\n",
       "    </tr>\n",
       "  </tbody>\n",
       "</table>\n",
       "</div>"
      ],
      "text/plain": [
       "   designer_id  collection_id  contribution_percentage\n",
       "0           46            117                    85.16\n",
       "1           78             68                    28.03\n",
       "2           12              8                    83.98"
      ]
     },
     "execution_count": 7,
     "metadata": {},
     "output_type": "execute_result"
    }
   ],
   "source": [
    "Designers_collections.head(3)"
   ]
  },
  {
   "cell_type": "code",
   "execution_count": 9,
   "id": "2fbe832d-e32a-4de1-8098-7af21e47710a",
   "metadata": {},
   "outputs": [],
   "source": [
    "import sqlite3\n",
    "conexao = sqlite3.connect('FashionDesigners.db')\n",
    "Designers_collections.to_sql('Designers_collections', conexao, if_exists='replace', index=False)\n",
    "conexao.close()"
   ]
  },
  {
   "cell_type": "code",
   "execution_count": 8,
   "id": "26afa5ae-d8ab-4226-9017-25e1bc38571c",
   "metadata": {},
   "outputs": [
    {
     "data": {
      "text/html": [
       "<div>\n",
       "<style scoped>\n",
       "    .dataframe tbody tr th:only-of-type {\n",
       "        vertical-align: middle;\n",
       "    }\n",
       "\n",
       "    .dataframe tbody tr th {\n",
       "        vertical-align: top;\n",
       "    }\n",
       "\n",
       "    .dataframe thead th {\n",
       "        text-align: right;\n",
       "    }\n",
       "</style>\n",
       "<table border=\"1\" class=\"dataframe\">\n",
       "  <thead>\n",
       "    <tr style=\"text-align: right;\">\n",
       "      <th></th>\n",
       "      <th>collection_id</th>\n",
       "      <th>style</th>\n",
       "      <th>theme</th>\n",
       "      <th>season</th>\n",
       "      <th>release_year</th>\n",
       "    </tr>\n",
       "  </thead>\n",
       "  <tbody>\n",
       "    <tr>\n",
       "      <th>248</th>\n",
       "      <td>1</td>\n",
       "      <td>cultural</td>\n",
       "      <td>even</td>\n",
       "      <td>Fall</td>\n",
       "      <td>2014</td>\n",
       "    </tr>\n",
       "    <tr>\n",
       "      <th>148</th>\n",
       "      <td>1</td>\n",
       "      <td>truth</td>\n",
       "      <td>even</td>\n",
       "      <td>Fall</td>\n",
       "      <td>2014</td>\n",
       "    </tr>\n",
       "    <tr>\n",
       "      <th>243</th>\n",
       "      <td>2</td>\n",
       "      <td>life</td>\n",
       "      <td>no</td>\n",
       "      <td>Summer</td>\n",
       "      <td>2012</td>\n",
       "    </tr>\n",
       "    <tr>\n",
       "      <th>364</th>\n",
       "      <td>2</td>\n",
       "      <td>life</td>\n",
       "      <td>no</td>\n",
       "      <td>Summer</td>\n",
       "      <td>2012</td>\n",
       "    </tr>\n",
       "    <tr>\n",
       "      <th>271</th>\n",
       "      <td>2</td>\n",
       "      <td>each</td>\n",
       "      <td>no</td>\n",
       "      <td>Summer</td>\n",
       "      <td>2012</td>\n",
       "    </tr>\n",
       "  </tbody>\n",
       "</table>\n",
       "</div>"
      ],
      "text/plain": [
       "     collection_id     style theme  season  release_year\n",
       "248              1  cultural  even    Fall          2014\n",
       "148              1     truth  even    Fall          2014\n",
       "243              2      life    no  Summer          2012\n",
       "364              2      life    no  Summer          2012\n",
       "271              2      each    no  Summer          2012"
      ]
     },
     "execution_count": 8,
     "metadata": {},
     "output_type": "execute_result"
    }
   ],
   "source": [
    "Collections.head(5)"
   ]
  },
  {
   "cell_type": "code",
   "execution_count": 9,
   "id": "65e61057-9bfe-46f5-a510-7e62abe0c9ea",
   "metadata": {},
   "outputs": [],
   "source": [
    "Collections.drop_duplicates(inplace=True)"
   ]
  },
  {
   "cell_type": "code",
   "execution_count": 10,
   "id": "ff7cb7be-8293-4e5d-a875-0e78edff57f5",
   "metadata": {},
   "outputs": [
    {
     "data": {
      "text/html": [
       "<div>\n",
       "<style scoped>\n",
       "    .dataframe tbody tr th:only-of-type {\n",
       "        vertical-align: middle;\n",
       "    }\n",
       "\n",
       "    .dataframe tbody tr th {\n",
       "        vertical-align: top;\n",
       "    }\n",
       "\n",
       "    .dataframe thead th {\n",
       "        text-align: right;\n",
       "    }\n",
       "</style>\n",
       "<table border=\"1\" class=\"dataframe\">\n",
       "  <thead>\n",
       "    <tr style=\"text-align: right;\">\n",
       "      <th></th>\n",
       "      <th>collection_id</th>\n",
       "      <th>style</th>\n",
       "      <th>theme</th>\n",
       "      <th>season</th>\n",
       "      <th>release_year</th>\n",
       "    </tr>\n",
       "  </thead>\n",
       "  <tbody>\n",
       "    <tr>\n",
       "      <th>248</th>\n",
       "      <td>1</td>\n",
       "      <td>cultural</td>\n",
       "      <td>even</td>\n",
       "      <td>Fall</td>\n",
       "      <td>2014</td>\n",
       "    </tr>\n",
       "    <tr>\n",
       "      <th>148</th>\n",
       "      <td>1</td>\n",
       "      <td>truth</td>\n",
       "      <td>even</td>\n",
       "      <td>Fall</td>\n",
       "      <td>2014</td>\n",
       "    </tr>\n",
       "    <tr>\n",
       "      <th>243</th>\n",
       "      <td>2</td>\n",
       "      <td>life</td>\n",
       "      <td>no</td>\n",
       "      <td>Summer</td>\n",
       "      <td>2012</td>\n",
       "    </tr>\n",
       "    <tr>\n",
       "      <th>271</th>\n",
       "      <td>2</td>\n",
       "      <td>each</td>\n",
       "      <td>no</td>\n",
       "      <td>Summer</td>\n",
       "      <td>2012</td>\n",
       "    </tr>\n",
       "    <tr>\n",
       "      <th>72</th>\n",
       "      <td>2</td>\n",
       "      <td>evidence</td>\n",
       "      <td>no</td>\n",
       "      <td>Summer</td>\n",
       "      <td>2012</td>\n",
       "    </tr>\n",
       "  </tbody>\n",
       "</table>\n",
       "</div>"
      ],
      "text/plain": [
       "     collection_id     style theme  season  release_year\n",
       "248              1  cultural  even    Fall          2014\n",
       "148              1     truth  even    Fall          2014\n",
       "243              2      life    no  Summer          2012\n",
       "271              2      each    no  Summer          2012\n",
       "72               2  evidence    no  Summer          2012"
      ]
     },
     "execution_count": 10,
     "metadata": {},
     "output_type": "execute_result"
    }
   ],
   "source": [
    "Collections.head(5)"
   ]
  },
  {
   "cell_type": "code",
   "execution_count": 12,
   "id": "234c72ad-99bd-4f8c-a162-4fd6d92c6d5a",
   "metadata": {},
   "outputs": [],
   "source": [
    "import sqlite3\n",
    "conexao = sqlite3.connect('FashionDesigners.db')\n",
    "Collections.to_sql('Collections', conexao, if_exists='replace', index=False)\n",
    "conexao.close()"
   ]
  },
  {
   "cell_type": "code",
   "execution_count": null,
   "id": "0e91a8c3-261e-4ddb-b934-3ea29c432de1",
   "metadata": {},
   "outputs": [],
   "source": []
  }
 ],
 "metadata": {
  "kernelspec": {
   "display_name": "Python 3 (ipykernel)",
   "language": "python",
   "name": "python3"
  },
  "language_info": {
   "codemirror_mode": {
    "name": "ipython",
    "version": 3
   },
   "file_extension": ".py",
   "mimetype": "text/x-python",
   "name": "python",
   "nbconvert_exporter": "python",
   "pygments_lexer": "ipython3",
   "version": "3.12.4"
  }
 },
 "nbformat": 4,
 "nbformat_minor": 5
}
